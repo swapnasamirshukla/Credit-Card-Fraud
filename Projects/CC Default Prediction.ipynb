{
 "cells": [
  {
   "cell_type": "code",
   "execution_count": 24,
   "metadata": {},
   "outputs": [],
   "source": [
    "import warnings\n",
    "warnings.filterwarnings('ignore')\n",
    "import pandas as pd\n",
    "import numpy as np\n",
    "import seaborn as sns\n",
    "import scipy\n",
    "import matplotlib.pyplot as plt\n",
    "from sklearn.model_selection import train_test_split, GridSearchCV\n",
    "from sklearn.base import BaseEstimator, TransformerMixin\n",
    "from sklearn.compose import ColumnTransformer\n",
    "from sklearn.pipeline import Pipeline, make_pipeline, make_union, FeatureUnion\n",
    "from sklearn.preprocessing import StandardScaler, OneHotEncoder, LabelBinarizer, FunctionTransformer\n",
    "from sklearn.linear_model import LogisticRegression\n",
    "from sklearn.decomposition import PCA\n",
    "from sklearn.svm import SVC, LinearSVC\n",
    "from sklearn.metrics import accuracy_score, confusion_matrix, classification_report, roc_curve, auc\n",
    "from sklearn_pandas import DataFrameMapper, cross_val_score, gen_features\n",
    "from sklearn.naive_bayes import GaussianNB\n",
    "from sklearn.feature_selection import SelectFromModel\n",
    "from xgboost import XGBClassifier\n",
    "from sklearn.neural_network import MLPClassifier\n",
    "from lightgbm import LGBMClassifier\n",
    "current_palette = sns.color_palette('colorblind')"
   ]
  },
  {
   "cell_type": "code",
   "execution_count": 2,
   "metadata": {},
   "outputs": [],
   "source": [
    "df = pd.read_csv('default-payment.csv', index_col = 'ID')"
   ]
  },
  {
   "cell_type": "code",
   "execution_count": 3,
   "metadata": {},
   "outputs": [
    {
     "data": {
      "text/plain": [
       "Index(['LIMIT_BAL', 'SEX', 'EDUCATION', 'MARRIAGE', 'AGE', 'PAY_0', 'PAY_2',\n",
       "       'PAY_3', 'PAY_4', 'PAY_5', 'PAY_6', 'BILL_AMT1', 'BILL_AMT2',\n",
       "       'BILL_AMT3', 'BILL_AMT4', 'BILL_AMT5', 'BILL_AMT6', 'PAY_AMT1',\n",
       "       'PAY_AMT2', 'PAY_AMT3', 'PAY_AMT4', 'PAY_AMT5', 'PAY_AMT6',\n",
       "       'default payment next month'],\n",
       "      dtype='object')"
      ]
     },
     "execution_count": 3,
     "metadata": {},
     "output_type": "execute_result"
    }
   ],
   "source": [
    "df.columns"
   ]
  },
  {
   "cell_type": "markdown",
   "metadata": {},
   "source": [
    "Creating dictionaries for categorical variables based on PDF Problem Statement"
   ]
  },
  {
   "cell_type": "code",
   "execution_count": 4,
   "metadata": {},
   "outputs": [],
   "source": [
    "sex = {0 : 'Male', 1 : 'Female'}\n",
    "marriage = {1: 'married', 2: 'single', 3: 'others'}\n",
    "education = {1: 'grad school', 2: 'university', 3: 'high school', 4: 'others'}\n",
    "repayment = {-1: 'pay duly', 1: '1mth delay', 2: '2mth delay', 3: '3mth delay', 4: '4mth delay',\n",
    "             5: '5mth delay', 6: '6mth delay', 7: '7mth delay', 8: '8mth delay', 9: '9mth or more delay'}\n",
    "default = {0 : 'N', 1 : 'Y'}"
   ]
  },
  {
   "cell_type": "markdown",
   "metadata": {},
   "source": [
    "Pre-Processing of categorical variables X2 to X11"
   ]
  },
  {
   "cell_type": "code",
   "execution_count": 5,
   "metadata": {},
   "outputs": [],
   "source": [
    "#Coding Sex binary with 0 and 1 instead of 1 and 2\n",
    "df.SEX.unique()\n",
    "df.loc[(df.SEX == 1), 'SEX'] = 0\n",
    "df.loc[(df.SEX == 2), 'SEX'] = 1"
   ]
  },
  {
   "cell_type": "code",
   "execution_count": 6,
   "metadata": {},
   "outputs": [],
   "source": [
    "#Grouping unknown Education status together with 'Others'\n",
    "df.EDUCATION.unique()\n",
    "df.loc[(df.EDUCATION == 5), 'EDUCATION'] = 4\n",
    "df.loc[(df.EDUCATION == 6), 'EDUCATION'] = 4\n",
    "df.loc[(df.EDUCATION == 0), 'EDUCATION'] = 4"
   ]
  },
  {
   "cell_type": "code",
   "execution_count": 7,
   "metadata": {},
   "outputs": [],
   "source": [
    "#Grouping unknown Marriage status together with 'Others'\n",
    "df.MARRIAGE.unique()\n",
    "df.loc[(df.MARRIAGE == 0), 'MARRIAGE'] = 3"
   ]
  },
  {
   "cell_type": "code",
   "execution_count": 8,
   "metadata": {},
   "outputs": [],
   "source": [
    "#Grouping negative and 0 repayment timings to paying on time\n",
    "df.PAY_0.unique()\n",
    "pays = ['PAY_0', 'PAY_2','PAY_3', 'PAY_4', 'PAY_5', 'PAY_6']\n",
    "for p in pays:\n",
    "    df.loc[(df[p] == 0), p] = -1\n",
    "    df.loc[(df[p] == -2), p] = -1"
   ]
  },
  {
   "cell_type": "code",
   "execution_count": 9,
   "metadata": {},
   "outputs": [
    {
     "data": {
      "text/html": [
       "<div>\n",
       "<style scoped>\n",
       "    .dataframe tbody tr th:only-of-type {\n",
       "        vertical-align: middle;\n",
       "    }\n",
       "\n",
       "    .dataframe tbody tr th {\n",
       "        vertical-align: top;\n",
       "    }\n",
       "\n",
       "    .dataframe thead th {\n",
       "        text-align: right;\n",
       "    }\n",
       "</style>\n",
       "<table border=\"1\" class=\"dataframe\">\n",
       "  <thead>\n",
       "    <tr style=\"text-align: right;\">\n",
       "      <th></th>\n",
       "      <th>LIMIT_BAL</th>\n",
       "      <th>SEX</th>\n",
       "      <th>EDUCATION</th>\n",
       "      <th>MARRIAGE</th>\n",
       "      <th>AGE</th>\n",
       "      <th>PAY_0</th>\n",
       "      <th>PAY_2</th>\n",
       "      <th>PAY_3</th>\n",
       "      <th>PAY_4</th>\n",
       "      <th>PAY_5</th>\n",
       "      <th>...</th>\n",
       "      <th>BILL_AMT4</th>\n",
       "      <th>BILL_AMT5</th>\n",
       "      <th>BILL_AMT6</th>\n",
       "      <th>PAY_AMT1</th>\n",
       "      <th>PAY_AMT2</th>\n",
       "      <th>PAY_AMT3</th>\n",
       "      <th>PAY_AMT4</th>\n",
       "      <th>PAY_AMT5</th>\n",
       "      <th>PAY_AMT6</th>\n",
       "      <th>default payment next month</th>\n",
       "    </tr>\n",
       "  </thead>\n",
       "  <tbody>\n",
       "    <tr>\n",
       "      <th>count</th>\n",
       "      <td>30000.000000</td>\n",
       "      <td>30000.000000</td>\n",
       "      <td>30000.000000</td>\n",
       "      <td>30000.000000</td>\n",
       "      <td>30000.000000</td>\n",
       "      <td>30000.000000</td>\n",
       "      <td>30000.000000</td>\n",
       "      <td>30000.000000</td>\n",
       "      <td>30000.000000</td>\n",
       "      <td>30000.000000</td>\n",
       "      <td>...</td>\n",
       "      <td>30000.000000</td>\n",
       "      <td>30000.000000</td>\n",
       "      <td>30000.000000</td>\n",
       "      <td>30000.000000</td>\n",
       "      <td>3.000000e+04</td>\n",
       "      <td>30000.00000</td>\n",
       "      <td>30000.000000</td>\n",
       "      <td>30000.000000</td>\n",
       "      <td>30000.000000</td>\n",
       "      <td>30000.000000</td>\n",
       "    </tr>\n",
       "    <tr>\n",
       "      <th>mean</th>\n",
       "      <td>167484.322667</td>\n",
       "      <td>0.603733</td>\n",
       "      <td>1.842267</td>\n",
       "      <td>1.557267</td>\n",
       "      <td>35.485500</td>\n",
       "      <td>-0.415967</td>\n",
       "      <td>-0.532033</td>\n",
       "      <td>-0.555500</td>\n",
       "      <td>-0.624233</td>\n",
       "      <td>-0.679567</td>\n",
       "      <td>...</td>\n",
       "      <td>43262.948967</td>\n",
       "      <td>40311.400967</td>\n",
       "      <td>38871.760400</td>\n",
       "      <td>5663.580500</td>\n",
       "      <td>5.921163e+03</td>\n",
       "      <td>5225.68150</td>\n",
       "      <td>4826.076867</td>\n",
       "      <td>4799.387633</td>\n",
       "      <td>5215.502567</td>\n",
       "      <td>0.221200</td>\n",
       "    </tr>\n",
       "    <tr>\n",
       "      <th>std</th>\n",
       "      <td>129747.661567</td>\n",
       "      <td>0.489129</td>\n",
       "      <td>0.744494</td>\n",
       "      <td>0.521405</td>\n",
       "      <td>9.217904</td>\n",
       "      <td>1.142591</td>\n",
       "      <td>1.146393</td>\n",
       "      <td>1.126275</td>\n",
       "      <td>1.067522</td>\n",
       "      <td>1.001726</td>\n",
       "      <td>...</td>\n",
       "      <td>64332.856134</td>\n",
       "      <td>60797.155770</td>\n",
       "      <td>59554.107537</td>\n",
       "      <td>16563.280354</td>\n",
       "      <td>2.304087e+04</td>\n",
       "      <td>17606.96147</td>\n",
       "      <td>15666.159744</td>\n",
       "      <td>15278.305679</td>\n",
       "      <td>17777.465775</td>\n",
       "      <td>0.415062</td>\n",
       "    </tr>\n",
       "    <tr>\n",
       "      <th>min</th>\n",
       "      <td>10000.000000</td>\n",
       "      <td>0.000000</td>\n",
       "      <td>1.000000</td>\n",
       "      <td>1.000000</td>\n",
       "      <td>21.000000</td>\n",
       "      <td>-1.000000</td>\n",
       "      <td>-1.000000</td>\n",
       "      <td>-1.000000</td>\n",
       "      <td>-1.000000</td>\n",
       "      <td>-1.000000</td>\n",
       "      <td>...</td>\n",
       "      <td>-170000.000000</td>\n",
       "      <td>-81334.000000</td>\n",
       "      <td>-339603.000000</td>\n",
       "      <td>0.000000</td>\n",
       "      <td>0.000000e+00</td>\n",
       "      <td>0.00000</td>\n",
       "      <td>0.000000</td>\n",
       "      <td>0.000000</td>\n",
       "      <td>0.000000</td>\n",
       "      <td>0.000000</td>\n",
       "    </tr>\n",
       "    <tr>\n",
       "      <th>25%</th>\n",
       "      <td>50000.000000</td>\n",
       "      <td>0.000000</td>\n",
       "      <td>1.000000</td>\n",
       "      <td>1.000000</td>\n",
       "      <td>28.000000</td>\n",
       "      <td>-1.000000</td>\n",
       "      <td>-1.000000</td>\n",
       "      <td>-1.000000</td>\n",
       "      <td>-1.000000</td>\n",
       "      <td>-1.000000</td>\n",
       "      <td>...</td>\n",
       "      <td>2326.750000</td>\n",
       "      <td>1763.000000</td>\n",
       "      <td>1256.000000</td>\n",
       "      <td>1000.000000</td>\n",
       "      <td>8.330000e+02</td>\n",
       "      <td>390.00000</td>\n",
       "      <td>296.000000</td>\n",
       "      <td>252.500000</td>\n",
       "      <td>117.750000</td>\n",
       "      <td>0.000000</td>\n",
       "    </tr>\n",
       "    <tr>\n",
       "      <th>50%</th>\n",
       "      <td>140000.000000</td>\n",
       "      <td>1.000000</td>\n",
       "      <td>2.000000</td>\n",
       "      <td>2.000000</td>\n",
       "      <td>34.000000</td>\n",
       "      <td>-1.000000</td>\n",
       "      <td>-1.000000</td>\n",
       "      <td>-1.000000</td>\n",
       "      <td>-1.000000</td>\n",
       "      <td>-1.000000</td>\n",
       "      <td>...</td>\n",
       "      <td>19052.000000</td>\n",
       "      <td>18104.500000</td>\n",
       "      <td>17071.000000</td>\n",
       "      <td>2100.000000</td>\n",
       "      <td>2.009000e+03</td>\n",
       "      <td>1800.00000</td>\n",
       "      <td>1500.000000</td>\n",
       "      <td>1500.000000</td>\n",
       "      <td>1500.000000</td>\n",
       "      <td>0.000000</td>\n",
       "    </tr>\n",
       "    <tr>\n",
       "      <th>75%</th>\n",
       "      <td>240000.000000</td>\n",
       "      <td>1.000000</td>\n",
       "      <td>2.000000</td>\n",
       "      <td>2.000000</td>\n",
       "      <td>41.000000</td>\n",
       "      <td>-1.000000</td>\n",
       "      <td>-1.000000</td>\n",
       "      <td>-1.000000</td>\n",
       "      <td>-1.000000</td>\n",
       "      <td>-1.000000</td>\n",
       "      <td>...</td>\n",
       "      <td>54506.000000</td>\n",
       "      <td>50190.500000</td>\n",
       "      <td>49198.250000</td>\n",
       "      <td>5006.000000</td>\n",
       "      <td>5.000000e+03</td>\n",
       "      <td>4505.00000</td>\n",
       "      <td>4013.250000</td>\n",
       "      <td>4031.500000</td>\n",
       "      <td>4000.000000</td>\n",
       "      <td>0.000000</td>\n",
       "    </tr>\n",
       "    <tr>\n",
       "      <th>max</th>\n",
       "      <td>1000000.000000</td>\n",
       "      <td>1.000000</td>\n",
       "      <td>4.000000</td>\n",
       "      <td>3.000000</td>\n",
       "      <td>79.000000</td>\n",
       "      <td>8.000000</td>\n",
       "      <td>8.000000</td>\n",
       "      <td>8.000000</td>\n",
       "      <td>8.000000</td>\n",
       "      <td>8.000000</td>\n",
       "      <td>...</td>\n",
       "      <td>891586.000000</td>\n",
       "      <td>927171.000000</td>\n",
       "      <td>961664.000000</td>\n",
       "      <td>873552.000000</td>\n",
       "      <td>1.684259e+06</td>\n",
       "      <td>896040.00000</td>\n",
       "      <td>621000.000000</td>\n",
       "      <td>426529.000000</td>\n",
       "      <td>528666.000000</td>\n",
       "      <td>1.000000</td>\n",
       "    </tr>\n",
       "  </tbody>\n",
       "</table>\n",
       "<p>8 rows × 24 columns</p>\n",
       "</div>"
      ],
      "text/plain": [
       "            LIMIT_BAL           SEX     EDUCATION      MARRIAGE           AGE  \\\n",
       "count    30000.000000  30000.000000  30000.000000  30000.000000  30000.000000   \n",
       "mean    167484.322667      0.603733      1.842267      1.557267     35.485500   \n",
       "std     129747.661567      0.489129      0.744494      0.521405      9.217904   \n",
       "min      10000.000000      0.000000      1.000000      1.000000     21.000000   \n",
       "25%      50000.000000      0.000000      1.000000      1.000000     28.000000   \n",
       "50%     140000.000000      1.000000      2.000000      2.000000     34.000000   \n",
       "75%     240000.000000      1.000000      2.000000      2.000000     41.000000   \n",
       "max    1000000.000000      1.000000      4.000000      3.000000     79.000000   \n",
       "\n",
       "              PAY_0         PAY_2         PAY_3         PAY_4         PAY_5  \\\n",
       "count  30000.000000  30000.000000  30000.000000  30000.000000  30000.000000   \n",
       "mean      -0.415967     -0.532033     -0.555500     -0.624233     -0.679567   \n",
       "std        1.142591      1.146393      1.126275      1.067522      1.001726   \n",
       "min       -1.000000     -1.000000     -1.000000     -1.000000     -1.000000   \n",
       "25%       -1.000000     -1.000000     -1.000000     -1.000000     -1.000000   \n",
       "50%       -1.000000     -1.000000     -1.000000     -1.000000     -1.000000   \n",
       "75%       -1.000000     -1.000000     -1.000000     -1.000000     -1.000000   \n",
       "max        8.000000      8.000000      8.000000      8.000000      8.000000   \n",
       "\n",
       "       ...      BILL_AMT4      BILL_AMT5      BILL_AMT6       PAY_AMT1  \\\n",
       "count  ...   30000.000000   30000.000000   30000.000000   30000.000000   \n",
       "mean   ...   43262.948967   40311.400967   38871.760400    5663.580500   \n",
       "std    ...   64332.856134   60797.155770   59554.107537   16563.280354   \n",
       "min    ... -170000.000000  -81334.000000 -339603.000000       0.000000   \n",
       "25%    ...    2326.750000    1763.000000    1256.000000    1000.000000   \n",
       "50%    ...   19052.000000   18104.500000   17071.000000    2100.000000   \n",
       "75%    ...   54506.000000   50190.500000   49198.250000    5006.000000   \n",
       "max    ...  891586.000000  927171.000000  961664.000000  873552.000000   \n",
       "\n",
       "           PAY_AMT2      PAY_AMT3       PAY_AMT4       PAY_AMT5  \\\n",
       "count  3.000000e+04   30000.00000   30000.000000   30000.000000   \n",
       "mean   5.921163e+03    5225.68150    4826.076867    4799.387633   \n",
       "std    2.304087e+04   17606.96147   15666.159744   15278.305679   \n",
       "min    0.000000e+00       0.00000       0.000000       0.000000   \n",
       "25%    8.330000e+02     390.00000     296.000000     252.500000   \n",
       "50%    2.009000e+03    1800.00000    1500.000000    1500.000000   \n",
       "75%    5.000000e+03    4505.00000    4013.250000    4031.500000   \n",
       "max    1.684259e+06  896040.00000  621000.000000  426529.000000   \n",
       "\n",
       "            PAY_AMT6  default payment next month  \n",
       "count   30000.000000                30000.000000  \n",
       "mean     5215.502567                    0.221200  \n",
       "std     17777.465775                    0.415062  \n",
       "min         0.000000                    0.000000  \n",
       "25%       117.750000                    0.000000  \n",
       "50%      1500.000000                    0.000000  \n",
       "75%      4000.000000                    0.000000  \n",
       "max    528666.000000                    1.000000  \n",
       "\n",
       "[8 rows x 24 columns]"
      ]
     },
     "execution_count": 9,
     "metadata": {},
     "output_type": "execute_result"
    }
   ],
   "source": [
    "df.describe()"
   ]
  },
  {
   "cell_type": "markdown",
   "metadata": {},
   "source": [
    "30,000 Credit Card clients \\\n",
    "Large standard deviation of limit balance \\\n",
    "22.1% of clients are defaulting on their payments next month"
   ]
  },
  {
   "cell_type": "code",
   "execution_count": 10,
   "metadata": {},
   "outputs": [
    {
     "data": {
      "text/plain": [
       "LIMIT_BAL                     0\n",
       "SEX                           0\n",
       "EDUCATION                     0\n",
       "MARRIAGE                      0\n",
       "AGE                           0\n",
       "PAY_0                         0\n",
       "PAY_2                         0\n",
       "PAY_3                         0\n",
       "PAY_4                         0\n",
       "PAY_5                         0\n",
       "PAY_6                         0\n",
       "BILL_AMT1                     0\n",
       "BILL_AMT2                     0\n",
       "BILL_AMT3                     0\n",
       "BILL_AMT4                     0\n",
       "BILL_AMT5                     0\n",
       "BILL_AMT6                     0\n",
       "PAY_AMT1                      0\n",
       "PAY_AMT2                      0\n",
       "PAY_AMT3                      0\n",
       "PAY_AMT4                      0\n",
       "PAY_AMT5                      0\n",
       "PAY_AMT6                      0\n",
       "default payment next month    0\n",
       "dtype: int64"
      ]
     },
     "execution_count": 10,
     "metadata": {},
     "output_type": "execute_result"
    }
   ],
   "source": [
    "df.isna().sum()"
   ]
  },
  {
   "cell_type": "markdown",
   "metadata": {},
   "source": [
    "Checking distribution of categorical variables"
   ]
  },
  {
   "cell_type": "code",
   "execution_count": 11,
   "metadata": {},
   "outputs": [
    {
     "data": {
      "text/plain": [
       "<matplotlib.axes._subplots.AxesSubplot at 0x17faa0345f8>"
      ]
     },
     "execution_count": 11,
     "metadata": {},
     "output_type": "execute_result"
    },
    {
     "data": {
      "image/png": "[encoded data removed]",
      "text/plain": [
       "<Figure size 432x288 with 1 Axes>"
      ]
     },
     "metadata": {
      "needs_background": "light"
     },
     "output_type": "display_data"
    }
   ],
   "source": [
    "df.columns = df.columns.map(str.lower)\n",
    "import matplotlib\n",
    "%matplotlib inline\n",
    "df['sex'].map(sex).value_counts().plot(kind='bar')"
   ]
  },
  {
   "cell_type": "code",
   "execution_count": 12,
   "metadata": {},
   "outputs": [
    {
     "data": {
      "text/plain": [
       "<matplotlib.axes._subplots.AxesSubplot at 0x17fa9b29358>"
      ]
     },
     "execution_count": 12,
     "metadata": {},
     "output_type": "execute_result"
    },
    {
     "data": {
      "image/png": "[encoded data removed]",
      "text/plain": [
       "<Figure size 432x288 with 1 Axes>"
      ]
     },
     "metadata": {
      "needs_background": "light"
     },
     "output_type": "display_data"
    }
   ],
   "source": [
    "df['marriage'].map(marriage).value_counts().plot(kind='bar')"
   ]
  },
  {
   "cell_type": "code",
   "execution_count": 13,
   "metadata": {},
   "outputs": [
    {
     "data": {
      "text/plain": [
       "<matplotlib.axes._subplots.AxesSubplot at 0x17fa9b91588>"
      ]
     },
     "execution_count": 13,
     "metadata": {},
     "output_type": "execute_result"
    },
    {
     "data": {
      "image/png": "[encoded data removed]",
      "text/plain": [
       "<Figure size 432x288 with 1 Axes>"
      ]
     },
     "metadata": {
      "needs_background": "light"
     },
     "output_type": "display_data"
    }
   ],
   "source": [
    "df['education'].map(education).value_counts().plot(kind='bar')"
   ]
  },
  {
   "cell_type": "markdown",
   "metadata": {},
   "source": [
    "Checking distribution of categorical variables with regards to target variable"
   ]
  },
  {
   "cell_type": "code",
   "execution_count": 14,
   "metadata": {},
   "outputs": [
    {
     "data": {
      "image/png": "[encoded data removed]",
      "text/plain": [
       "<Figure size 864x1440 with 6 Axes>"
      ]
     },
     "metadata": {
      "needs_background": "light"
     },
     "output_type": "display_data"
    }
   ],
   "source": [
    "column_names = ['sex', 'marriage', 'education', 'default payment next month']\n",
    "df1 = pd.DataFrame(columns = column_names)\n",
    "df1['default payment next month'] = df['default payment next month'].map(default)\n",
    "df1['sex'] = df['sex'].map(sex)\n",
    "df1['marriage'] = df['marriage'].map(marriage)\n",
    "df1['education'] = df['education'].map(education)\n",
    "\n",
    "def prop_check(data):\n",
    "    f, axes = plt.subplots(3,2,figsize= (12,20))\n",
    "    plt.suptitle('Count vs proportion of each object feature vs Loan_Status', size =16, y = 0.9)\n",
    "    col = ['sex', 'marriage', 'education']\n",
    "    r = 0\n",
    "    for i in col:\n",
    "        if (data.dtypes == 'object')[i]:        \n",
    "            data_prop = (data['default payment next month']\n",
    "                          .groupby(data[i])\n",
    "                          .value_counts(normalize = True)\n",
    "                          .rename('prop')\n",
    "                          .reset_index())\n",
    "            sns.countplot(data = data, \n",
    "                          x ='default payment next month', \n",
    "                          hue = i, \n",
    "                          ax = axes[r,0], \n",
    "                          hue_order=data_prop[i].unique(), \n",
    "                          palette=current_palette)\n",
    "            sns.barplot(data = data_prop, \n",
    "                        x = 'default payment next month', \n",
    "                        y = 'prop',\n",
    "                        hue = i,\n",
    "                        ax = axes[r,1],\n",
    "                        palette=current_palette)\n",
    "            r = r+1\n",
    "prop_check(df1)"
   ]
  },
  {
   "cell_type": "code",
   "execution_count": 15,
   "metadata": {},
   "outputs": [
    {
     "data": {
      "text/plain": [
       "50000     3365\n",
       "20000     1976\n",
       "30000     1610\n",
       "80000     1567\n",
       "200000    1528\n",
       "Name: limit_bal, dtype: int64"
      ]
     },
     "execution_count": 15,
     "metadata": {},
     "output_type": "execute_result"
    }
   ],
   "source": [
    "df['limit_bal'].value_counts().head(5)"
   ]
  },
  {
   "cell_type": "code",
   "execution_count": 16,
   "metadata": {},
   "outputs": [
    {
     "data": {
      "image/png": "[encoded data removed]",
      "text/plain": [
       "<Figure size 432x288 with 2 Axes>"
      ]
     },
     "metadata": {
      "needs_background": "light"
     },
     "output_type": "display_data"
    }
   ],
   "source": [
    "bill_amt_c = ['bill_amt1', 'bill_amt2', 'bill_amt3', 'bill_amt4', 'bill_amt5', 'bill_amt6']\n",
    "ax = sns.heatmap(df[bill_amt_c].corr())"
   ]
  },
  {
   "cell_type": "markdown",
   "metadata": {},
   "source": [
    "Correlation is decreasing with increasing time passed between months i.e. lower correlation between bill_amt6 and bill_amt1"
   ]
  },
  {
   "cell_type": "code",
   "execution_count": 17,
   "metadata": {},
   "outputs": [],
   "source": [
    "y = df['default payment next month']\n",
    "X = df.drop(columns=['default payment next month'])"
   ]
  },
  {
   "cell_type": "code",
   "execution_count": 18,
   "metadata": {},
   "outputs": [],
   "source": [
    "X, X_test, y, y_test = train_test_split(X, y, test_size=0.2, random_state=2020)"
   ]
  },
  {
   "cell_type": "markdown",
   "metadata": {},
   "source": [
    "# Using cross validation and pipeline"
   ]
  },
  {
   "cell_type": "markdown",
   "metadata": {},
   "source": [
    "Feature Engineering"
   ]
  },
  {
   "cell_type": "code",
   "execution_count": 19,
   "metadata": {},
   "outputs": [],
   "source": [
    "#age bin\n",
    "def age_bin(X):\n",
    "    if X['age'] > 20 and X['age'] < 29:\n",
    "        return 1\n",
    "    elif X['age'] >= 29 and X['age'] < 46:\n",
    "        return 2\n",
    "    elif X['age'] >= 46 and X['age'] < 60:\n",
    "        return 3\n",
    "    else:\n",
    "        return 4\n",
    "\n",
    "age = FunctionTransformer(lambda x: x.apply(age_bin, axis=1).to_numpy().reshape(-1,1))   \n",
    "\n",
    "#pro time delinquent\n",
    "def prop_time_delinquent(X):\n",
    "    I1 = 1 if X['pay_0'] > 0 else 0\n",
    "    I2 = 1 if X['pay_2'] > 0 else 0\n",
    "    I3 = 1 if X['pay_3'] > 0 else 0\n",
    "    I4 = 1 if X['pay_4'] > 0 else 0\n",
    "    I5 = 1 if X['pay_5'] > 0 else 0\n",
    "    I6 = 1 if X['pay_6'] > 0 else 0\n",
    "\n",
    "    return (I1+I2+I3+I4+I5+I6)/6\n",
    "\n",
    "delinq = FunctionTransformer(lambda x: x.apply(prop_time_delinquent, axis=1).to_numpy().reshape(-1,1))\n",
    "\n",
    "#delinquent_indicator\n",
    "def del_indicator(X):\n",
    "    if (X['pay_0'] > 0 or X['pay_2'] > 0 or X['pay_3'] > 0 or X['pay_4'] > 0 or X['pay_5'] > 0 or X['pay_6'] > 0):\n",
    "        return 1\n",
    "    else:\n",
    "        return 0\n",
    "\n",
    "del_ind = FunctionTransformer(lambda x: x.apply(del_indicator, axis=1).to_numpy().reshape(-1,1))\n",
    "\n",
    "#ave_rel_outstanding\n",
    "def ave_rel_outstanding(X):\n",
    "    bill_amt = X.loc[: , 'bill_amt1':'bill_amt6']\n",
    "    bill_amt.columns = ['1', '2', '3', '4', '5', '6']\n",
    "    pay_amt = X.loc[: , 'pay_amt1':'pay_amt6']\n",
    "    pay_amt.columns = ['1', '2', '3', '4', '5', '6']\n",
    "    rel_outstanding = bill_amt.subtract(pay_amt).div(X['limit_bal'], axis=0)\n",
    "    return rel_outstanding.mean(axis=1)\n",
    "\n",
    "rel_out = FunctionTransformer(lambda x: ave_rel_outstanding(x).to_numpy().reshape(-1,1))\n",
    "\n",
    "#avg_credit_utilization\n",
    "def avg_credit_util(X):\n",
    "    bill_amt_c = ['bill_amt1', 'bill_amt2', 'bill_amt3', 'bill_amt4', 'bill_amt5', 'bill_amt6']\n",
    "    feat = pd.DataFrame()\n",
    "    for c in bill_amt_c:\n",
    "        feat[c] = X[c]/X['limit_bal']\n",
    "    return feat.mean(axis=1)\n",
    "\n",
    "avg_util = FunctionTransformer(lambda x: x.apply(avg_credit_util, axis=1).to_numpy().reshape(-1,1))"
   ]
  },
  {
   "cell_type": "code",
   "execution_count": 20,
   "metadata": {},
   "outputs": [],
   "source": [
    "to_scale = ['limit_bal', 'age', 'pay_amt1', 'pay_amt2',\n",
    "       'pay_amt3', 'pay_amt4', 'pay_amt5', 'pay_amt6']\n",
    "\n",
    "to_pca = ['bill_amt1', 'bill_amt2', 'bill_amt3', 'bill_amt4', 'bill_amt5', 'bill_amt6']\n",
    "\n",
    "\n",
    "pay_cols = ['pay_0', 'pay_2', 'pay_3', 'pay_4', 'pay_5', 'pay_6']\n",
    "\n",
    "\n",
    "mapper = DataFrameMapper([\n",
    "    ('sex', None),\n",
    "    (pay_cols, OneHotEncoder(handle_unknown='ignore'), {'alias': 'pay'}),\n",
    "    (['marriage'], OneHotEncoder(handle_unknown='ignore'), {'alias': 'marriage'}),\n",
    "    (['education'], OneHotEncoder(handle_unknown='ignore'), {'alias': 'education'}),\n",
    "    (to_scale, StandardScaler(), {'alias': 'scaled'}),\n",
    "    (to_pca, make_pipeline(StandardScaler(), PCA(3)), {'alias': 'pca'})\n",
    "])"
   ]
  },
  {
   "cell_type": "code",
   "execution_count": 21,
   "metadata": {},
   "outputs": [],
   "source": [
    "all_features = FeatureUnion([('mapper', mapper), ('delinq', delinq), ('del_ind', del_ind), ('rel_out', rel_out), ('age', age)])"
   ]
  },
  {
   "cell_type": "code",
   "execution_count": 22,
   "metadata": {},
   "outputs": [],
   "source": [
    "#Create DataFrame with all variables used in the classifiers below:\n",
    "\n",
    "X_map = mapper.fit_transform(X)\n",
    "cols = mapper.transformed_names_\n",
    "cols.append('delinq')\n",
    "cols.append('del_ind')\n",
    "cols.append('rel_out')\n",
    "cols.append('age')"
   ]
  },
  {
   "cell_type": "markdown",
   "metadata": {},
   "source": [
    "Logistic Regression"
   ]
  },
  {
   "cell_type": "code",
   "execution_count": 25,
   "metadata": {
    "scrolled": true
   },
   "outputs": [
    {
     "name": "stdout",
     "output_type": "stream",
     "text": [
      "CV scores for best parameters (CV score=0.82021):\n",
      "Best parameters:  {'lm__C': 0.046415888336127774}\n",
      "Train Accuracy : 0.820375\n",
      "See below the classification report based on Test data\n",
      "              precision    recall  f1-score   support\n",
      "\n",
      "           0       0.83      0.97      0.89      4635\n",
      "           1       0.74      0.32      0.45      1365\n",
      "\n",
      "    accuracy                           0.82      6000\n",
      "   macro avg       0.78      0.64      0.67      6000\n",
      "weighted avg       0.81      0.82      0.79      6000\n",
      "\n",
      "AUC score for Logistic Regression on train data is 0.7583\n",
      "AUC score for Logistic Regression on test data is 0.7738\n"
     ]
    }
   ],
   "source": [
    "pipe = Pipeline([\n",
    "    ('featurize', all_features),\n",
    "    ('feature_selection', SelectFromModel(LogisticRegression(C=1, penalty='l2'))),\n",
    "    ('lm', LogisticRegression())])\n",
    "\n",
    "param_grid = {\n",
    "    'lm__C': np.logspace(-4, 4, 4),\n",
    "}\n",
    "\n",
    "#need to fit pipeline and print out support metrics in order to get selected features (only needed once)\n",
    "pipe.fit(X,y)\n",
    "support = pipe.named_steps['feature_selection'].get_support()\n",
    "\n",
    "#calling pipeline with gridsearch\n",
    "log_reg = GridSearchCV(pipe, param_grid, n_jobs=-1)\n",
    "log_reg.fit(X, y)\n",
    "\n",
    "\n",
    "print(\"CV scores for best parameters (CV score=%0.5f):\" % log_reg.best_score_)\n",
    "print('Best parameters: ', log_reg.best_params_)\n",
    "print('Train Accuracy :', log_reg.best_estimator_.score(X,y))\n",
    "\n",
    "predicted_lr = log_reg.best_estimator_.predict(X_test)\n",
    "print('See below the classification report based on Test data')\n",
    "print(classification_report(y_test, predicted_lr))\n",
    "\n",
    "#computing default probabilities for risk management on train data\n",
    "default_proba_lr = log_reg.best_estimator_.predict_proba(X)[:, 1]\n",
    "default_proba_lr_test = log_reg.best_estimator_.predict_proba(X_test)[:, 1]\n",
    "\n",
    "fpr, tpr, thresholds = roc_curve(y, default_proba_lr)\n",
    "print('AUC score for Logistic Regression on train data is',round(auc(fpr, tpr),4))\n",
    "\n",
    "fpr_test, tpr_test, thresholds = roc_curve(y_test, default_proba_lr_test)\n",
    "print('AUC score for Logistic Regression on test data is',round(auc(fpr_test, tpr_test),4))"
   ]
  },
  {
   "cell_type": "markdown",
   "metadata": {},
   "source": [
    "LightGBM"
   ]
  },
  {
   "cell_type": "code",
   "execution_count": 54,
   "metadata": {},
   "outputs": [
    {
     "name": "stdout",
     "output_type": "stream",
     "text": [
      "CV scores for best parameters (CV score=0.82075):\n",
      "Best parameters:  {'lgb__learning_rate': 0.05, 'lgb__max_depth': 15, 'lgb__min_child_weight': 1}\n",
      "Train Accuracy : 0.824625\n",
      "See below the classification report based on Test data\n",
      "              precision    recall  f1-score   support\n",
      "\n",
      "           0       0.83      0.96      0.89      4635\n",
      "           1       0.71      0.35      0.47      1365\n",
      "\n",
      "    accuracy                           0.82      6000\n",
      "   macro avg       0.77      0.65      0.68      6000\n",
      "weighted avg       0.81      0.82      0.80      6000\n",
      "\n",
      "AUC score for LightGBM on train data is 0.7771\n",
      "AUC score for LightGBM on test data is 0.7738\n"
     ]
    }
   ],
   "source": [
    "pipe = Pipeline([\n",
    "    ('featurize', all_features),\n",
    "    ('feature_selection', SelectFromModel(LogisticRegression(C=1, penalty='l2'))),\n",
    "    ('lgb', LGBMClassifier())])\n",
    "\n",
    "param_grid ={  \n",
    "             'lgb__min_child_weight': [1e-5, 1e-3, 1e-2, 1e-1, 1, 1e1, 1e2, 1e3, 1e4],\n",
    "             'lgb__max_depth': [5, 10, 15],\n",
    "             'lgb__learning_rate': [0.1, 0.05]}\n",
    "\n",
    "#calling pipeline with gridsearch\n",
    "lgb = GridSearchCV(pipe, param_grid, n_jobs=-1)\n",
    "lgb.fit(X, y)\n",
    "\n",
    "\n",
    "print(\"CV scores for best parameters (CV score=%0.5f):\" % lgb.best_score_)\n",
    "print('Best parameters: ', lgb.best_params_)\n",
    "print('Train Accuracy :', lgb.best_estimator_.score(X,y))\n",
    "\n",
    "predicted_lgb = lgb.best_estimator_.predict(X_test)\n",
    "print('See below the classification report based on Test data')\n",
    "print(classification_report(y_test, predicted_lgb))\n",
    "\n",
    "#computing default probabilities for risk management on train data\n",
    "default_proba_lgb = lgb.best_estimator_.predict_proba(X)[:, 1]\n",
    "default_proba_lgb_test = lgb.best_estimator_.predict_proba(X_test)[:, 1]\n",
    "\n",
    "fpr, tpr, thresholds = roc_curve(y, default_proba_lgb)\n",
    "print('AUC score for LightGBM on train data is',round(auc(fpr, tpr),4))\n",
    "\n",
    "fpr_test, tpr_test, thresholds = roc_curve(y_test, default_proba_lgb_test)\n",
    "print('AUC score for LightGBM on test data is',round(auc(fpr_test, tpr_test),4))"
   ]
  },
  {
   "cell_type": "markdown",
   "metadata": {},
   "source": [
    "MLP Classifier"
   ]
  },
  {
   "cell_type": "code",
   "execution_count": 55,
   "metadata": {},
   "outputs": [
    {
     "name": "stdout",
     "output_type": "stream",
     "text": [
      "CV scores for best parameters (CV score=0.82183):\n",
      "Best parameters:  {'MLPClassifier__activation': 'tanh', 'MLPClassifier__hidden_layer_sizes': (4, 4), 'MLPClassifier__max_iter': 100, 'MLPClassifier__solver': 'lbfgs'}\n",
      "Train Accuracy : 0.822875\n",
      "See below the classification report based on Test data\n",
      "              precision    recall  f1-score   support\n",
      "\n",
      "           0       0.84      0.96      0.89      4635\n",
      "           1       0.71      0.36      0.48      1365\n",
      "\n",
      "    accuracy                           0.82      6000\n",
      "   macro avg       0.77      0.66      0.69      6000\n",
      "weighted avg       0.81      0.82      0.80      6000\n",
      "\n",
      "AUC score for MLP on train data is 0.7605\n",
      "AUC score for MLP on test data is 0.7738\n"
     ]
    }
   ],
   "source": [
    "pipe = Pipeline([\n",
    "    ('featurize', all_features),\n",
    "    ('feature_selection', SelectFromModel(LogisticRegression(C=1, penalty='l2'))),\n",
    "    ('MLPClassifier', MLPClassifier(random_state = 42))])\n",
    "\n",
    "param_grid = [{\n",
    "    'MLPClassifier__solver': ['lbfgs', 'sgd', 'adam'],\n",
    "    'MLPClassifier__max_iter': [100,200,300,500],\n",
    "    'MLPClassifier__activation' : ['relu','logistic','tanh'],\n",
    "    'MLPClassifier__hidden_layer_sizes':[(2,), (4,),(2,2),(4,4),(4,2),(10,10),(2,2,2)],}]\n",
    "\n",
    "#calling pipeline with gridsearch\n",
    "mlp = GridSearchCV(pipe, param_grid, n_jobs=-1)\n",
    "mlp.fit(X, y)\n",
    "\n",
    "\n",
    "print(\"CV scores for best parameters (CV score=%0.5f):\" % mlp.best_score_)\n",
    "print('Best parameters: ',mlp.best_params_)\n",
    "print('Train Accuracy :', mlp.best_estimator_.score(X,y))\n",
    "\n",
    "predicted_mlp = mlp.best_estimator_.predict(X_test)\n",
    "print('See below the classification report based on Test data')\n",
    "print(classification_report(y_test, predicted_mlp))\n",
    "\n",
    "#computing default probabilities for risk management on train data\n",
    "default_proba_mlp = mlp.best_estimator_.predict_proba(X)[:, 1]\n",
    "default_proba_mlp_test = mlp.best_estimator_.predict_proba(X_test)[:, 1]\n",
    "\n",
    "fpr, tpr, thresholds = roc_curve(y, default_proba_mlp)\n",
    "print('AUC score for MLP on train data is',round(auc(fpr, tpr),4))\n",
    "\n",
    "fpr_test, tpr_test, thresholds = roc_curve(y_test, default_proba_mlp_test)\n",
    "print('AUC score for MLP on test data is',round(auc(fpr_test, tpr_test),4))"
   ]
  },
  {
   "cell_type": "markdown",
   "metadata": {},
   "source": [
    "Checking significant features fed into above models based on Ridge Regression"
   ]
  },
  {
   "cell_type": "code",
   "execution_count": 59,
   "metadata": {},
   "outputs": [],
   "source": [
    "#Filter all columns passed to the pipeline by just the one classified as significant:\n",
    "df = pd.DataFrame(data=support, columns=['significant'],index=cols)\n",
    "sign = df[(df['significant']== True)]"
   ]
  },
  {
   "cell_type": "code",
   "execution_count": 60,
   "metadata": {},
   "outputs": [
    {
     "data": {
      "text/html": [
       "<div>\n",
       "<style scoped>\n",
       "    .dataframe tbody tr th:only-of-type {\n",
       "        vertical-align: middle;\n",
       "    }\n",
       "\n",
       "    .dataframe tbody tr th {\n",
       "        vertical-align: top;\n",
       "    }\n",
       "\n",
       "    .dataframe thead th {\n",
       "        text-align: right;\n",
       "    }\n",
       "</style>\n",
       "<table border=\"1\" class=\"dataframe\">\n",
       "  <thead>\n",
       "    <tr style=\"text-align: right;\">\n",
       "      <th></th>\n",
       "      <th>significant</th>\n",
       "    </tr>\n",
       "  </thead>\n",
       "  <tbody>\n",
       "    <tr>\n",
       "      <th>pay_x0_-1</th>\n",
       "      <td>True</td>\n",
       "    </tr>\n",
       "    <tr>\n",
       "      <th>pay_x0_1</th>\n",
       "      <td>True</td>\n",
       "    </tr>\n",
       "    <tr>\n",
       "      <th>pay_x0_2</th>\n",
       "      <td>True</td>\n",
       "    </tr>\n",
       "    <tr>\n",
       "      <th>pay_x0_3</th>\n",
       "      <td>True</td>\n",
       "    </tr>\n",
       "    <tr>\n",
       "      <th>pay_x0_4</th>\n",
       "      <td>True</td>\n",
       "    </tr>\n",
       "    <tr>\n",
       "      <th>pay_x0_6</th>\n",
       "      <td>True</td>\n",
       "    </tr>\n",
       "    <tr>\n",
       "      <th>pay_x0_7</th>\n",
       "      <td>True</td>\n",
       "    </tr>\n",
       "    <tr>\n",
       "      <th>pay_x1_4</th>\n",
       "      <td>True</td>\n",
       "    </tr>\n",
       "    <tr>\n",
       "      <th>pay_x1_6</th>\n",
       "      <td>True</td>\n",
       "    </tr>\n",
       "    <tr>\n",
       "      <th>pay_x1_7</th>\n",
       "      <td>True</td>\n",
       "    </tr>\n",
       "    <tr>\n",
       "      <th>pay_x2_5</th>\n",
       "      <td>True</td>\n",
       "    </tr>\n",
       "    <tr>\n",
       "      <th>pay_x2_6</th>\n",
       "      <td>True</td>\n",
       "    </tr>\n",
       "    <tr>\n",
       "      <th>pay_x3_1</th>\n",
       "      <td>True</td>\n",
       "    </tr>\n",
       "    <tr>\n",
       "      <th>pay_x3_4</th>\n",
       "      <td>True</td>\n",
       "    </tr>\n",
       "    <tr>\n",
       "      <th>pay_x3_5</th>\n",
       "      <td>True</td>\n",
       "    </tr>\n",
       "    <tr>\n",
       "      <th>pay_x4_2</th>\n",
       "      <td>True</td>\n",
       "    </tr>\n",
       "    <tr>\n",
       "      <th>pay_x4_4</th>\n",
       "      <td>True</td>\n",
       "    </tr>\n",
       "    <tr>\n",
       "      <th>pay_x4_5</th>\n",
       "      <td>True</td>\n",
       "    </tr>\n",
       "    <tr>\n",
       "      <th>pay_x4_7</th>\n",
       "      <td>True</td>\n",
       "    </tr>\n",
       "    <tr>\n",
       "      <th>pay_x5_-1</th>\n",
       "      <td>True</td>\n",
       "    </tr>\n",
       "    <tr>\n",
       "      <th>pay_x5_2</th>\n",
       "      <td>True</td>\n",
       "    </tr>\n",
       "    <tr>\n",
       "      <th>pay_x5_3</th>\n",
       "      <td>True</td>\n",
       "    </tr>\n",
       "    <tr>\n",
       "      <th>pay_x5_5</th>\n",
       "      <td>True</td>\n",
       "    </tr>\n",
       "    <tr>\n",
       "      <th>pay_x5_6</th>\n",
       "      <td>True</td>\n",
       "    </tr>\n",
       "    <tr>\n",
       "      <th>pay_x5_8</th>\n",
       "      <td>True</td>\n",
       "    </tr>\n",
       "    <tr>\n",
       "      <th>education_x0_4</th>\n",
       "      <td>True</td>\n",
       "    </tr>\n",
       "    <tr>\n",
       "      <th>scaled_3</th>\n",
       "      <td>True</td>\n",
       "    </tr>\n",
       "    <tr>\n",
       "      <th>del_ind</th>\n",
       "      <td>True</td>\n",
       "    </tr>\n",
       "  </tbody>\n",
       "</table>\n",
       "</div>"
      ],
      "text/plain": [
       "                significant\n",
       "pay_x0_-1              True\n",
       "pay_x0_1               True\n",
       "pay_x0_2               True\n",
       "pay_x0_3               True\n",
       "pay_x0_4               True\n",
       "pay_x0_6               True\n",
       "pay_x0_7               True\n",
       "pay_x1_4               True\n",
       "pay_x1_6               True\n",
       "pay_x1_7               True\n",
       "pay_x2_5               True\n",
       "pay_x2_6               True\n",
       "pay_x3_1               True\n",
       "pay_x3_4               True\n",
       "pay_x3_5               True\n",
       "pay_x4_2               True\n",
       "pay_x4_4               True\n",
       "pay_x4_5               True\n",
       "pay_x4_7               True\n",
       "pay_x5_-1              True\n",
       "pay_x5_2               True\n",
       "pay_x5_3               True\n",
       "pay_x5_5               True\n",
       "pay_x5_6               True\n",
       "pay_x5_8               True\n",
       "education_x0_4         True\n",
       "scaled_3               True\n",
       "del_ind                True"
      ]
     },
     "execution_count": 60,
     "metadata": {},
     "output_type": "execute_result"
    }
   ],
   "source": [
    "sign"
   ]
  },
  {
   "cell_type": "markdown",
   "metadata": {},
   "source": [
    "# Portfolio Metrics using Model Output"
   ]
  },
  {
   "cell_type": "code",
   "execution_count": 26,
   "metadata": {},
   "outputs": [],
   "source": [
    "# Calculate the outstanding balance as total bill amount- total pay amount\n",
    "X1=X.reset_index()\n",
    "bill_amt = X1.loc[: , 'bill_amt1':'bill_amt6']\n",
    "bill_amt.columns = ['1', '2', '3', '4', '5', '6']\n",
    "pay_amt = X1.loc[: , 'pay_amt1':'pay_amt6']\n",
    "pay_amt.columns = ['1', '2', '3', '4', '5', '6']\n",
    "rel_outstanding = bill_amt.subtract(pay_amt)\n",
    "X1[\"EAD\"] = rel_outstanding.apply(lambda row: row['1' : '6'].sum(),axis=1)\n"
   ]
  },
  {
   "cell_type": "code",
   "execution_count": 27,
   "metadata": {},
   "outputs": [],
   "source": [
    "# PD -- probability default figures derived from logistic regression\n",
    "# EAD -- Relative outstanding balance derived earlier * limit balance\n",
    "# ECL -- PD*EAD\n",
    "ecl = pd.DataFrame(columns=['PD','EAD','ECL'])\n",
    "\n",
    "for i in range(len(default_proba_lr)):\n",
    "    ecl.loc[i,'PD']=default_proba_lr[i]\n",
    "    if X1.loc[i,'EAD'] <0:\n",
    "        ecl.loc[i,'EAD']=0\n",
    "    else:\n",
    "        ecl.loc[i,'EAD']=X1.loc[i,'EAD']\n",
    "    ecl.loc[i,'ECL']=ecl.loc[i,'PD']*ecl.loc[i,'EAD']"
   ]
  },
  {
   "cell_type": "code",
   "execution_count": 28,
   "metadata": {},
   "outputs": [],
   "source": [
    "# Do a Monte Carlo Simulation for 100000 runs In each run, randomly select samples of 2000 accounts.\n",
    "# To account for high absolute ECL figures, divide it by total EAD for the sample \n",
    "loss_portfolio=[]\n",
    "for i in range(100000):\n",
    "    random_data = ecl.sample(2000)\n",
    "    loss_perc = sum(random_data['ECL'])/sum(random_data['EAD'])\n",
    "    loss_portfolio.append(loss_perc)"
   ]
  },
  {
   "cell_type": "code",
   "execution_count": 49,
   "metadata": {},
   "outputs": [
    {
     "data": {
      "image/png": "[encoded data removed]",
      "text/plain": [
       "<Figure size 1440x720 with 1 Axes>"
      ]
     },
     "metadata": {
      "needs_background": "light"
     },
     "output_type": "display_data"
    }
   ],
   "source": [
    "plt.rcParams['figure.figsize'] = (20, 10)\n",
    "plt.xlabel('Credit Loss as % of total exposure ')\n",
    "plt.ylabel('Frequency')\n",
    "\n",
    "N, bins, patches = plt.hist(loss_portfolio,bins=5000, linewidth=1)\n",
    "\n",
    "for i in range(0,2400):\n",
    "    patches[i].set_facecolor('blue')\n",
    "for i in range(4150, len(patches)):\n",
    "    patches[i].set_facecolor('red')\n",
    "\n",
    "plt.axvline(x=0.224, color='red', linestyle='--')\n",
    "plt.axvline(x=0.249, color='red', linestyle='--')\n",
    "plt.text(0.20,90,'Expected Loss',fontsize=14)\n",
    "plt.text(0.235,90,'Unexpected Loss',fontsize=14)\n",
    "plt.text(0.25,90,'VaR:Catastrophic Loss',fontsize=14)\n",
    "plt.show()"
   ]
  },
  {
   "cell_type": "markdown",
   "metadata": {},
   "source": [
    "Calculating VaR at 99.9% confidence interval"
   ]
  },
  {
   "cell_type": "code",
   "execution_count": 38,
   "metadata": {},
   "outputs": [
    {
     "name": "stdout",
     "output_type": "stream",
     "text": [
      "Expected Loss=0.224, Value at Risk=0.249\n"
     ]
    }
   ],
   "source": [
    "WCL = np.quantile(loss_portfolio,0.999)\n",
    "EL = np.mean(loss_portfolio)\n",
    "print('Expected Loss={}, Value at Risk={}'.format(round(EL,3),round(WCL,3)))"
   ]
  },
  {
   "cell_type": "code",
   "execution_count": null,
   "metadata": {},
   "outputs": [],
   "source": []
  }
 ],
 "metadata": {
  "kernelspec": {
   "display_name": "Python 3",
   "language": "python",
   "name": "python3"
  },
  "language_info": {
   "codemirror_mode": {
    "name": "ipython",
    "version": 3
   },
   "file_extension": ".py",
   "mimetype": "text/x-python",
   "name": "python",
   "nbconvert_exporter": "python",
   "pygments_lexer": "ipython3",
   "version": "3.7.3"
  }
 },
 "nbformat": 4,
 "nbformat_minor": 2
}
